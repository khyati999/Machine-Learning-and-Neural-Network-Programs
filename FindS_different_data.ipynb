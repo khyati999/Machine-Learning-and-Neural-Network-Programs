{
 "cells": [
  {
   "cell_type": "code",
   "execution_count": 1,
   "metadata": {},
   "outputs": [],
   "source": [
    "import pandas as pd \n"
   ]
  },
  {
   "cell_type": "code",
   "execution_count": 8,
   "metadata": {},
   "outputs": [
    {
     "data": {
      "text/plain": [
       "[['High', 'High', 'Yes', 'No'],\n",
       " ['Low', 'High', 'No', 'Yes'],\n",
       " ['High', 'Low', 'Yes', 'Yes'],\n",
       " ['High', 'Low', 'No', 'Yes']]"
      ]
     },
     "execution_count": 8,
     "metadata": {},
     "output_type": "execute_result"
    }
   ],
   "source": [
    "data=pd.read_csv(r\"DataSet2.csv\")\n",
    "datalist=data.values.tolist()\n",
    "datalist"
   ]
  },
  {
   "cell_type": "code",
   "execution_count": 20,
   "metadata": {},
   "outputs": [
    {
     "name": "stdout",
     "output_type": "stream",
     "text": [
      "3\n",
      "['phi', 'phi', 'phi']\n"
     ]
    }
   ],
   "source": [
    "rows=len(datalist)\n",
    "cols=len(datalist[0])-1\n",
    "print(cols)\n",
    "h0=['phi']*cols\n",
    "print(h0)\n"
   ]
  },
  {
   "cell_type": "code",
   "execution_count": 21,
   "metadata": {},
   "outputs": [
    {
     "name": "stdout",
     "output_type": "stream",
     "text": [
      "['High', 'High', 'Yes']\n"
     ]
    }
   ],
   "source": [
    "for i in range(0,cols):\n",
    "    h0[i]=datalist[0][i]\n",
    "print(h0)"
   ]
  },
  {
   "cell_type": "code",
   "execution_count": 24,
   "metadata": {},
   "outputs": [
    {
     "name": "stdout",
     "output_type": "stream",
     "text": [
      "After 0 iteration, hypothesis :  ['High', 'High', 'Yes']\n",
      "After 1 iteration, hypothesis :  ['?', 'High', '?']\n",
      "After 2 iteration, hypothesis :  ['?', '?', '?']\n",
      "After 3 iteration, hypothesis :  ['?', '?', '?']\n"
     ]
    }
   ],
   "source": [
    "for i in range(0,rows):\n",
    "    if datalist[i][cols]=='Yes':\n",
    "        for j in range(0,cols):\n",
    "            if(datalist[i][j]!=h0[j]):\n",
    "                h0[j]='?'\n",
    "            else:\n",
    "                h0[j]=datalist[i][j]\n",
    "    print(\"After {0} iteration, hypothesis : \".format(i),h0)"
   ]
  },
  {
   "cell_type": "code",
   "execution_count": 26,
   "metadata": {},
   "outputs": [
    {
     "name": "stdout",
     "output_type": "stream",
     "text": [
      "final hypothesis after training\n",
      "['?', '?', '?']\n"
     ]
    }
   ],
   "source": [
    "print(\"final hypothesis after training\")\n",
    "print(h0)"
   ]
  },
  {
   "cell_type": "code",
   "execution_count": null,
   "metadata": {},
   "outputs": [],
   "source": []
  }
 ],
 "metadata": {
  "kernelspec": {
   "display_name": "Python 3",
   "language": "python",
   "name": "python3"
  },
  "language_info": {
   "codemirror_mode": {
    "name": "ipython",
    "version": 3
   },
   "file_extension": ".py",
   "mimetype": "text/x-python",
   "name": "python",
   "nbconvert_exporter": "python",
   "pygments_lexer": "ipython3",
   "version": "3.12.0"
  }
 },
 "nbformat": 4,
 "nbformat_minor": 2
}
