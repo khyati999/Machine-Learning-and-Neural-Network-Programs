{
 "cells": [
  {
   "cell_type": "code",
   "execution_count": 30,
   "metadata": {},
   "outputs": [],
   "source": [
    "import pandas as pd\n",
    "\n"
   ]
  },
  {
   "cell_type": "code",
   "execution_count": 38,
   "metadata": {},
   "outputs": [
    {
     "name": "stdout",
     "output_type": "stream",
     "text": [
      "[['Sunny', 'Warm', 'Normal', 'Strong', 'Warm', 'Same', 'Yes'], ['Sunny', 'Warm', 'High', 'Strong', 'Warm', 'Same', 'Yes'], ['Rainy', 'Cold', 'High', 'Strong', 'Warm', 'Change', 'No'], ['Sunny', 'Warm', 'High', 'Strong', 'Cool', 'Change', 'Yes']]\n"
     ]
    }
   ],
   "source": [
    "data=pd.read_csv(r\"C:\\MLNN_programs\\DataSet1.csv\")\n",
    "dataList=data.values.tolist()\n",
    "print(dataList)"
   ]
  },
  {
   "cell_type": "code",
   "execution_count": 39,
   "metadata": {},
   "outputs": [
    {
     "name": "stdout",
     "output_type": "stream",
     "text": [
      "6\n",
      "['phi', 'phi', 'phi', 'phi', 'phi', 'phi']\n"
     ]
    }
   ],
   "source": [
    "rows=len(dataList)\n",
    "cols=len(dataList[0])-1\n",
    "print(cols)\n",
    "h0=['phi']*cols\n",
    "print(h0)"
   ]
  },
  {
   "cell_type": "code",
   "execution_count": 41,
   "metadata": {},
   "outputs": [
    {
     "name": "stdout",
     "output_type": "stream",
     "text": [
      "['Sunny', 'Warm', 'Normal', 'Strong', 'Warm', 'Same']\n"
     ]
    }
   ],
   "source": [
    "for i in range(0,cols):\n",
    "    h0[i]=dataList[0][i]\n",
    "print(h0)"
   ]
  },
  {
   "cell_type": "code",
   "execution_count": 42,
   "metadata": {},
   "outputs": [
    {
     "name": "stdout",
     "output_type": "stream",
     "text": [
      "After 0 iteration, hypothesis :  ['Sunny', 'Warm', 'Normal', 'Strong', 'Warm', 'Same']\n",
      "After 1 iteration, hypothesis :  ['Sunny', 'Warm', '?', 'Strong', 'Warm', 'Same']\n",
      "After 2 iteration, hypothesis :  ['Sunny', 'Warm', '?', 'Strong', 'Warm', 'Same']\n",
      "After 3 iteration, hypothesis :  ['Sunny', 'Warm', '?', 'Strong', '?', '?']\n"
     ]
    }
   ],
   "source": [
    "for i in range(0,rows):\n",
    "    if dataList[i][cols]=='Yes':\n",
    "        for j in range(0,cols):\n",
    "            if(dataList[i][j]!=h0[j]):\n",
    "                h0[j]='?'\n",
    "            else:\n",
    "                h0[j]=dataList[i][j]\n",
    "    print(\"After {0} iteration, hypothesis : \".format(i),h0)"
   ]
  },
  {
   "cell_type": "code",
   "execution_count": 43,
   "metadata": {},
   "outputs": [
    {
     "name": "stdout",
     "output_type": "stream",
     "text": [
      "hypothesis after training\n",
      "['Sunny', 'Warm', '?', 'Strong', '?', '?']\n"
     ]
    }
   ],
   "source": [
    "print(\"hypothesis after training\")\n",
    "print(h0)"
   ]
  },
  {
   "cell_type": "code",
   "execution_count": null,
   "metadata": {},
   "outputs": [],
   "source": []
  }
 ],
 "metadata": {
  "kernelspec": {
   "display_name": "Python 3",
   "language": "python",
   "name": "python3"
  },
  "language_info": {
   "codemirror_mode": {
    "name": "ipython",
    "version": 3
   },
   "file_extension": ".py",
   "mimetype": "text/x-python",
   "name": "python",
   "nbconvert_exporter": "python",
   "pygments_lexer": "ipython3",
   "version": "3.12.0"
  }
 },
 "nbformat": 4,
 "nbformat_minor": 2
}
