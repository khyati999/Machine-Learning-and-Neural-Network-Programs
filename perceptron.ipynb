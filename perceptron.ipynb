{
 "cells": [
  {
   "cell_type": "code",
   "execution_count": 3,
   "metadata": {},
   "outputs": [],
   "source": [
    "import numpy as np"
   ]
  },
  {
   "cell_type": "code",
   "execution_count": 4,
   "metadata": {},
   "outputs": [],
   "source": [
    "x=np.array([0,0])"
   ]
  },
  {
   "cell_type": "code",
   "execution_count": 5,
   "metadata": {},
   "outputs": [],
   "source": [
    "w=np.array([1,1])"
   ]
  },
  {
   "cell_type": "code",
   "execution_count": 6,
   "metadata": {},
   "outputs": [],
   "source": [
    "b=-1.5"
   ]
  },
  {
   "cell_type": "code",
   "execution_count": 7,
   "metadata": {},
   "outputs": [],
   "source": [
    "yin=np.dot(w,x)+b"
   ]
  },
  {
   "cell_type": "code",
   "execution_count": 8,
   "metadata": {},
   "outputs": [],
   "source": [
    "def perceptAND(X1,X2,W1,W2,b):\n",
    "    x=np.array([X1,X2])\n",
    "    w=np.array([W1,W2])\n",
    "    yin=np.dot(w,x)+b\n",
    "    if(yin>=0):\n",
    "        print(\"1\")\n",
    "    else:\n",
    "        print(\"0\")\n"
   ]
  },
  {
   "cell_type": "code",
   "execution_count": 9,
   "metadata": {},
   "outputs": [
    {
     "name": "stdout",
     "output_type": "stream",
     "text": [
      "0\n",
      "0\n",
      "0\n",
      "1\n"
     ]
    }
   ],
   "source": [
    "perceptAND(0,0,1,1,-1.5)\n",
    "perceptAND(0,1,1,1,-1.5)\n",
    "perceptAND(1,0,1,1,-1.5)\n",
    "perceptAND(1,1,1,1,-1.5)"
   ]
  },
  {
   "cell_type": "code",
   "execution_count": 10,
   "metadata": {},
   "outputs": [],
   "source": [
    "#Logical OR\n",
    "def perceptOR(X1,X2,W1,W2,b):\n",
    "    x=np.array([X1,X2])\n",
    "    w=np.array([W1,W2])\n",
    "    yin=np.dot(w,x)+b\n",
    "    if(yin>=0):\n",
    "        print(\"1\")\n",
    "    else:\n",
    "        print(\"0\")"
   ]
  },
  {
   "cell_type": "code",
   "execution_count": 14,
   "metadata": {},
   "outputs": [
    {
     "name": "stdout",
     "output_type": "stream",
     "text": [
      "0\n",
      "1\n",
      "1\n",
      "1\n"
     ]
    }
   ],
   "source": [
    "perceptOR(0,0,1,1,-0.5)\n",
    "perceptOR(0,1,1,1,-0.5)\n",
    "perceptOR(1,0,1,1,-0.5)\n",
    "perceptOR(1,1,1,1,-0.5)"
   ]
  },
  {
   "cell_type": "code",
   "execution_count": 12,
   "metadata": {},
   "outputs": [],
   "source": [
    "#Logical EXOR\n",
    "def perceptXOR(X1,X2,W1,W2,b):\n",
    "    x=np.array([X1,X2])\n",
    "    w=np.array([W1,W2])\n",
    "    yin=np.dot(w,x)+b\n",
    "    if(yin>=0):\n",
    "        print(\"1\")\n",
    "    else:\n",
    "        print(\"0\")"
   ]
  },
  {
   "cell_type": "code",
   "execution_count": 13,
   "metadata": {},
   "outputs": [
    {
     "name": "stdout",
     "output_type": "stream",
     "text": [
      "0\n"
     ]
    }
   ],
   "source": [
    "perceptXOR(0,1,1,-1,0.5)"
   ]
  },
  {
   "cell_type": "code",
   "execution_count": null,
   "metadata": {},
   "outputs": [],
   "source": []
  }
 ],
 "metadata": {
  "kernelspec": {
   "display_name": "Python 3",
   "language": "python",
   "name": "python3"
  },
  "language_info": {
   "codemirror_mode": {
    "name": "ipython",
    "version": 3
   },
   "file_extension": ".py",
   "mimetype": "text/x-python",
   "name": "python",
   "nbconvert_exporter": "python",
   "pygments_lexer": "ipython3",
   "version": "3.12.0"
  }
 },
 "nbformat": 4,
 "nbformat_minor": 2
}
